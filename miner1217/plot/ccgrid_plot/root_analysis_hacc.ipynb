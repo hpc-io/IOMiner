{
 "cells": [
  {
   "cell_type": "code",
   "execution_count": 2,
   "metadata": {},
   "outputs": [
    {
     "name": "stdout",
     "output_type": "stream",
     "text": [
      "The autoreload extension is already loaded. To reload it, use:\n",
      "  %reload_ext autoreload\n",
      "dimension:10\n",
      "\n",
      "6\n",
      "after plotting, color count:10\n",
      "\n"
     ]
    }
   ],
   "source": [
    "import matplotlib.pyplot as plt; plt.rcdefaults()\n",
    "import numpy as np\n",
    "import matplotlib.pyplot as plt\n",
    "import pickle\n",
    "from miner_plot import *\n",
    "from distri_plot import *\n",
    "%load_ext autoreload\n",
    "%autoreload 2\n",
    "\n",
    "plot_path = \"/global/cscratch1/sd/tengwang/miner1217/hacc_tpm_plot_factors.log\"\n",
    "save_fd = open(plot_path, 'rb')\n",
    "output_arr = pickle.load(save_fd)\n",
    "cursor = 0\n",
    "output_arr = sorted(output_arr, key = lambda x:x[1])\n",
    "x_labels = [\"UserNo\", \"JobNo\", \"ossAvgCPU(%)\", \"ostAvgIO(MB)\", \"Datasize (GB)\", \"nprocs\", \"OST #\", \"Seq (%)\", \"Small (%)\", \"mdsAvgCPU(%)\",  \"MTime (%)\", \"MaxRankIO (%)\", \"BW (GB/s)\"]\n",
    "#print \"count is %d\\n\"%len(output_arr)\n",
    "#for record in output_arr:\n",
    "#    print \"jobid:%d, appid:%d, nnodes:%d, col:%d, small:%d, size:%d,nonconsec:%d, ost_cnt:%d, proc_ost:%d\\n\"%(record[0], record[1], record[2], record[3], record[4], record[5], record[6], record[7], record[8])\n",
    "plotDistri(output_arr, \"hacc\", \"io\", x_labels)\n",
    "save_fd.close()"
   ]
  },
  {
   "cell_type": "code",
   "execution_count": null,
   "metadata": {},
   "outputs": [],
   "source": []
  },
  {
   "cell_type": "code",
   "execution_count": null,
   "metadata": {},
   "outputs": [],
   "source": []
  },
  {
   "cell_type": "code",
   "execution_count": null,
   "metadata": {},
   "outputs": [],
   "source": []
  }
 ],
 "metadata": {
  "kernelspec": {
   "display_name": "Python 2",
   "language": "python",
   "name": "python2"
  },
  "language_info": {
   "codemirror_mode": {
    "name": "ipython",
    "version": 2
   },
   "file_extension": ".py",
   "mimetype": "text/x-python",
   "name": "python",
   "nbconvert_exporter": "python",
   "pygments_lexer": "ipython2",
   "version": "2.7.15"
  }
 },
 "nbformat": 4,
 "nbformat_minor": 2
}
