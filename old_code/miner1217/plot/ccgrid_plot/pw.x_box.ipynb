{
 "cells": [
  {
   "cell_type": "code",
   "execution_count": 1,
   "metadata": {},
   "outputs": [
    {
     "name": "stdout",
     "output_type": "stream",
     "text": [
      "key is :19, bw is 0.509118\n",
      "\n",
      "key is :19, bw is 3.770217\n",
      "\n",
      "key is :19, bw is 92.653713\n",
      "\n",
      "key is :19, bw is 26.545810\n",
      "\n",
      "key is :19, bw is 5.145641\n",
      "\n",
      "key is :19, bw is 9.585165\n",
      "\n",
      "key is :19, bw is 1.906278\n",
      "\n",
      "key is :19, bw is 8.971125\n",
      "\n",
      "key is :19, bw is 624.826917\n",
      "\n",
      "key is :19, bw is 10.366579\n",
      "\n",
      "key is :19, bw is 25.853705\n",
      "\n",
      "key is :19, bw is 5.344596\n",
      "\n"
     ]
    }
   ],
   "source": [
    "import pickle\n",
    "import numpy\n",
    "import math\n",
    "import matplotlib\n",
    "from matplotlib.colors import LogNorm\n",
    "matplotlib.use('Agg')\n",
    "import matplotlib.pyplot as plt\n",
    "import matplotlib.ticker as ticker\n",
    "from matplotlib.ticker import FuncFormatter\n",
    "import numpy as np\n",
    "from collections import OrderedDict\n",
    "#import plotly.plotly as py\n",
    "#import plotly.tools as tls\n",
    "\n",
    "import matplotlib.pyplot as plt\n",
    "\n",
    "def plot_app_box(app_dict, y_lst):\n",
    "    plt.gcf().clear()\n",
    "    plt.ylim([min(y_lst), max(y_lst)*10])\n",
    "    \n",
    "    x_lst = app_dict.keys()\n",
    "    bw_lst = app_dict.values()\n",
    "    plt.xlabel('UserNo')\n",
    "    plt.ylabel('Bandwidth (GB/s)')\n",
    "    plt.yscale('log')\n",
    "    plt.boxplot(bw_lst, '', labels = x_lst)\n",
    "    plt.axvspan(20, 20, color='cyan', alpha=0.5, lw = '6')\n",
    "    plt.xticks(rotation=90)\n",
    "    title = \"user_pw.x\"\n",
    "    plt.savefig(title+'.jpg', format = 'jpg', bbox_inches='tight')\n",
    "#    plt.xscale('log')\n",
    "#    plt.title('TestBW')\n",
    "    plt.legend()\n",
    "\n",
    "tmp_str = \"/global/cscratch1/sd/tengwang/miner1217/pw.x_user_profile.log\"\n",
    "save_fd = open(tmp_str, 'rb')\n",
    "feature_dict = pickle.load(save_fd)\n",
    "save_fd.close()\n",
    "\n",
    "y_lst = []\n",
    "app_records = {}\n",
    "for key,value in feature_dict.items():\n",
    "    if app_records.get(key, -1) == -1:\n",
    "        app_records[key] = []\n",
    "\n",
    "    for record in value:\n",
    "        app_records[key].append(record[1])\n",
    "        y_lst.append(record[1])\n",
    "        if key == 19:\n",
    "            print \"key is :%d, bw is %lf\\n\"%(key, record[1])\n",
    "    \n",
    "plot_app_box(app_records, y_lst)\n"
   ]
  },
  {
   "cell_type": "code",
   "execution_count": null,
   "metadata": {},
   "outputs": [],
   "source": []
  },
  {
   "cell_type": "code",
   "execution_count": null,
   "metadata": {},
   "outputs": [],
   "source": []
  }
 ],
 "metadata": {
  "kernelspec": {
   "display_name": "Python 2",
   "language": "python",
   "name": "python2"
  },
  "language_info": {
   "codemirror_mode": {
    "name": "ipython",
    "version": 2
   },
   "file_extension": ".py",
   "mimetype": "text/x-python",
   "name": "python",
   "nbconvert_exporter": "python",
   "pygments_lexer": "ipython2",
   "version": "2.7.15"
  }
 },
 "nbformat": 4,
 "nbformat_minor": 2
}
