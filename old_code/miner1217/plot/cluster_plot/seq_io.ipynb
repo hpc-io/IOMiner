{
 "cells": [
  {
   "cell_type": "code",
   "execution_count": 8,
   "metadata": {},
   "outputs": [],
   "source": [
    "import matplotlib.pyplot as plt; plt.rcdefaults()\n",
    "import numpy as np\n",
    "import matplotlib.pyplot as plt\n",
    "import pickle\n",
    "\n",
    "def plotConsecDist(out_lst, io_type, max_ticks):\n",
    "    plt.gcf().clear()\n",
    "    plt.xlabel('Percentile of Job Count', fontsize = 18)\n",
    "    plt.ylabel('Percent of Sequential I/O', fontsize = 18)\n",
    "    x = []\n",
    "    y = []\n",
    "    xlabels = []\n",
    "    title = \"consec_%s\"%io_type\n",
    "    cursor = 0\n",
    "\n",
    "    delta = 100/len(out_lst)\n",
    "    tmp_sum = delta\n",
    "    for i in range(1, len(out_lst)):\n",
    "#        print \"%dth is %d\\n\"%(tmp_sum, out_lst[i - 1])\n",
    "        x.append(tmp_sum)\n",
    "        tmp_sum = tmp_sum + delta\n",
    "        y.append(out_lst[i - 1])\n",
    "\n",
    "    x.append(100)\n",
    "    y.append(out_lst[len(out_lst) - 1])\n",
    "\n",
    "    cur_ticks = min(len(x), max_ticks)\n",
    "\n",
    "    tick_delta = len(x)/cur_ticks*delta\n",
    "#    print y\n",
    "    plt.bar(x, y, color = 'b')\n",
    "#    plt.xticks(x, x, fontsize=8)\n",
    "    plt.xticks(np.arange(0, max(x) + 1, tick_delta), fontsize=18)\n",
    "    plt.yticks(fontsize = 18)\n",
    "    plt.legend()\n",
    "#    plt.yscale('log')\n",
    "#    plt.ylim((0, max(y)))\n",
    "    plt.savefig(title+'.pdf', format = 'pdf', bbox_inches='tight')\n",
    "    \n",
    "plot_path = \"/global/cscratch1/sd/tengwang/cluster_plot/seq_dist.pkl\"\n",
    "save_fd = open(plot_path, 'rb')\n",
    "out_dict = pickle.load(save_fd)\n",
    "save_fd.close()\n",
    "plotConsecDist(out_dict[\"consec\"], \"ALL\", 10)"
   ]
  },
  {
   "cell_type": "code",
   "execution_count": null,
   "metadata": {},
   "outputs": [],
   "source": []
  },
  {
   "cell_type": "code",
   "execution_count": null,
   "metadata": {},
   "outputs": [],
   "source": []
  }
 ],
 "metadata": {
  "kernelspec": {
   "display_name": "Python 2",
   "language": "python",
   "name": "python2"
  },
  "language_info": {
   "codemirror_mode": {
    "name": "ipython",
    "version": 2
   },
   "file_extension": ".py",
   "mimetype": "text/x-python",
   "name": "python",
   "nbconvert_exporter": "python",
   "pygments_lexer": "ipython2",
   "version": "2.7.15"
  }
 },
 "nbformat": 4,
 "nbformat_minor": 2
}
